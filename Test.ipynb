{
 "cells": [
  {
   "cell_type": "markdown",
   "id": "79e6e10b",
   "metadata": {},
   "source": [
    "## Test\n",
    "Load the model and randomly predict one figure in validation set (not used in train set), plot the original input, GT, and prediction.\n",
    "Can run many times!"
   ]
  },
  {
   "cell_type": "code",
   "execution_count": null,
   "id": "ae50bfc2",
   "metadata": {},
   "outputs": [],
   "source": [
    "model = load_model('trained_model_epoch6.h5',custom_objects={'log_cosh_dice_loss': log_cosh_dice_loss,'dice_coef':dice_coef})\n",
    "img_size = (240,240)\n",
    "img_root = '/content/drive/My Drive/BraTs/Val/Yes/'\n",
    "all_files = os.listdir(img_root)\n",
    "files = [item for item in all_files if \"img\" in item]\n",
    "random.shuffle(files)\n",
    "test_list = []\n",
    "x_test = np.load(os.path.join(img_root,files[0]))\n",
    "x_seg = np.load(os.path.join(img_root,files[0]).split('_')[0]+'_seg.npy')\n",
    "test_list.append(os.path.join(img_root,files[0]))\n",
    "test_generator = DataGenerator(test_list, batch_size=1)\n",
    "x_test2, y = test_generator.__getitem__(0)\n",
    "print(x_test2.shape)\n",
    "prediction = model.predict(x_test2)\n",
    "print(prediction.shape)\n",
    "plt.figure(1)\n",
    "plt.imshow(x_test2[0,:,:,0], cmap='gray')\n",
    "plt.xlabel('Original Input')\n",
    "plt.figure(2)\n",
    "plt.imshow(x_seg, cmap='gray')\n",
    "plt.xlabel('GT Label')\n",
    "plt.figure(3)\n",
    "plt.imshow(prediction[0,:,:,1], cmap='gray')\n",
    "plt.xlabel('Model Prediction')"
   ]
  }
 ],
 "metadata": {
  "kernelspec": {
   "display_name": "Python 3",
   "language": "python",
   "name": "python3"
  },
  "language_info": {
   "codemirror_mode": {
    "name": "ipython",
    "version": 3
   },
   "file_extension": ".py",
   "mimetype": "text/x-python",
   "name": "python",
   "nbconvert_exporter": "python",
   "pygments_lexer": "ipython3",
   "version": "3.8.8"
  }
 },
 "nbformat": 4,
 "nbformat_minor": 5
}
